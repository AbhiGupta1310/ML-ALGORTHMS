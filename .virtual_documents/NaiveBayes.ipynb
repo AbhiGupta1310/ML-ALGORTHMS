import pandas as pd


df = pd.read_csv('titanic.csv')


df.head()


df = df.drop(['PassengerId', 'Name', 'SibSp',
       'Parch', 'Ticket', 'Cabin', 'Embarked'],axis = 1)


df.columns


df.head()


X = df.drop('Survived',axis = 1)
y = df['Survived']


X = pd.get_dummies(X)


X.head()


X.columns[X.isna().any()]


X.Age[:10]


X.Age = X.Age.fillna(X.Age.mean())


X.Age[:10]


from sklearn.model_selection import train_test_split
X_train,X_test,y_train,y_test = train_test_split(X,y,test_size = 0.2)


from sklearn.naive_bayes import GaussianNB
model = GaussianNB()


model.fit(X_train,y_train)


model.score(X_test,y_test)


y_test[:10]


model.predict(X_test[:10])


df = pd.read_csv('spam.csv')


df.head()


df.groupby('Category').describe()


df['spam'] = df['Category'].apply(lambda x : 1 if x == 'spam' else 0 )


df.head()





X = df['Message']
y = df['spam']
X_train,X_test,y_train,y_test = train_test_split(X,y,test_size = 0.2)


# y.columns[X.isna().any()]






from sklearn.feature_extraction.text import CountVectorizer
v = CountVectorizer()
# Fit ONLY on training data
X_train_count = v.fit_transform(X_train.values)
# Transform test data using the SAME vocabulary
X_test_count = v.transform(X_test.values)

# X_train_count.toarray()[:3]



from sklearn.naive_bayes import MultinomialNB
model = MultinomialNB()
model.fit(X_train_count,y_train)


y_train


emails = [
'Hey mohan, can we get together to watch football game tomorrow?',
'Upto 20% discount on parking, exclusive offer just for you. Dont miss this reward!'
]
emails_count = v.transform(emails)
model.predict(emails_count)


model.score(X_test_count,y_test)


from sklearn.pipeline import Pipeline
clf = Pipeline([
    ('vectorizer',CountVectorizer()),
    ('nb',MultinomialNB())
])


clf.fit(X_train,y_train)


clf.score(X_test,y_test)





from sklearn import datasets
wine = datasets.load_wine()


dir(wine)


wine.feature_names


wine.target


df = pd.DataFrame(wine.data, columns =wine.feature_names)


df.head()


df['target'] = wine.target


df.head()


X = df.drop('target',axis = 1)


y = df['target']


X_train,X_test,y_train,y_test = train_test_split(X,y,test_size = 0.2)


model = GaussianNB()


model.fit(X_train,y_train)


model.score(X_test,y_test)


model = MultinomialNB()


model.fit(X_train,y_train)


model.score(X_test,y_test)



